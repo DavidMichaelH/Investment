{
 "cells": [
  {
   "cell_type": "code",
   "execution_count": 6,
   "metadata": {},
   "outputs": [],
   "source": [
    "import pandas as pd\n",
    "import os\n",
    "import sqlite3\n",
    "import seaborn as sns\n",
    "import matplotlib.pyplot as plt\n"
   ]
  },
  {
   "cell_type": "code",
   "execution_count": 7,
   "metadata": {},
   "outputs": [],
   "source": [
    "table_name = 'banking_stock_prices'\n",
    "db_name = 'investment_database.db'\n",
    "start_date = \"2022-07-01\"\n",
    "end_date = \"2023-02-23\""
   ]
  },
  {
   "cell_type": "code",
   "execution_count": 8,
   "metadata": {},
   "outputs": [
    {
     "name": "stdout",
     "output_type": "stream",
     "text": [
      "symbols =  ['MCD' 'YUM' 'QSR' 'DPZ' 'CMG' 'JPM' 'GS' 'BAC' 'C' 'WFC']\n"
     ]
    }
   ],
   "source": [
    "current_dir = os.getcwd()\n",
    "parent_dir = os.path.dirname(current_dir)\n",
    "db_file = os.path.join(parent_dir, 'database', db_name)\n",
    "\n",
    "\n",
    "# Create a connection to the database\n",
    "conn = sqlite3.connect(db_file)\n",
    "\n",
    "\n",
    "# Define the SQL query to retrieve the data within the date range\n",
    "sql_query = f\"SELECT * FROM '{table_name}' WHERE date BETWEEN '{start_date}' AND '{end_date}'\"\n",
    "\n",
    "# Load the data into a pandas DataFrame\n",
    "df_stocks = pd.read_sql_query(sql_query, conn, parse_dates=['date'])\n",
    "\n",
    "#get the symbols\n",
    "symbols = df_stocks['symbol'].unique()\n",
    "print(\"symbols = \", symbols)\n",
    "# Close the connection to the database\n",
    "conn.close()"
   ]
  },
  {
   "attachments": {},
   "cell_type": "markdown",
   "metadata": {},
   "source": [
    "We create a dataframe of returns for all assets in the portfolio.  "
   ]
  },
  {
   "cell_type": "code",
   "execution_count": 9,
   "metadata": {},
   "outputs": [
    {
     "name": "stdout",
     "output_type": "stream",
     "text": [
      "symbol           BAC         C       CMG       DPZ        GS       JPM  \\\n",
      "date                                                                     \n",
      "2022-07-05 -0.010139 -0.005547  0.042784 -0.016873 -0.006784 -0.012538   \n",
      "2022-07-06 -0.008323 -0.009869 -0.014955  0.001941 -0.011575 -0.006482   \n",
      "2022-07-07  0.028405  0.016901  0.006638  0.020047  0.016476  0.025293   \n",
      "2022-07-08 -0.002197 -0.002344 -0.008851 -0.010332 -0.007133 -0.003138   \n",
      "2022-07-11 -0.010381 -0.013456 -0.036729 -0.010216 -0.011097 -0.013116   \n",
      "\n",
      "symbol           MCD       QSR       WFC       YUM  \n",
      "date                                                \n",
      "2022-07-05 -0.002649  0.002326  0.004509  0.005312  \n",
      "2022-07-06 -0.003290 -0.007349 -0.014963 -0.004261  \n",
      "2022-07-07  0.005886  0.008377  0.015696  0.007789  \n",
      "2022-07-08  0.001186  0.005989  0.001496 -0.003907  \n",
      "2022-07-11  0.000158 -0.009987 -0.009706 -0.006310  \n"
     ]
    }
   ],
   "source": [
    "# Pivot the dataframe to have dates as the index and symbols as the columns\n",
    "df_pivot = df_stocks.pivot(index='date', columns='symbol', values='close')\n",
    "\n",
    "# Compute daily returns for each symbol\n",
    "returns = df_pivot.pct_change()\n",
    "\n",
    "# drop the first row of the DataFrame\n",
    "returns = returns.drop(returns.index[0])\n",
    "\n",
    "# Preview the data\n",
    "print(returns.head())\n"
   ]
  }
 ],
 "metadata": {
  "kernelspec": {
   "display_name": "Python 3",
   "language": "python",
   "name": "python3"
  },
  "language_info": {
   "codemirror_mode": {
    "name": "ipython",
    "version": 3
   },
   "file_extension": ".py",
   "mimetype": "text/x-python",
   "name": "python",
   "nbconvert_exporter": "python",
   "pygments_lexer": "ipython3",
   "version": "3.10.2"
  },
  "orig_nbformat": 4,
  "vscode": {
   "interpreter": {
    "hash": "369f2c481f4da34e4445cda3fffd2e751bd1c4d706f27375911949ba6bb62e1c"
   }
  }
 },
 "nbformat": 4,
 "nbformat_minor": 2
}
